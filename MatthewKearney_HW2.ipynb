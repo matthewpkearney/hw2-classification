{
 "cells": [
  {
   "cell_type": "markdown",
   "metadata": {},
   "source": [
    "# <center> HW2 - Linear Discriminant Analysis, Perception Classification <center>"
   ]
  },
  {
   "cell_type": "code",
   "execution_count": 79,
   "metadata": {},
   "outputs": [],
   "source": [
    "from sklearn import datasets\n",
    "import matplotlib.pyplot as plt\n",
    "import pandas as pd\n",
    "#maybe make dataframe and get data description.\n",
    "\n",
    "X, y, centers = datasets.make_blobs(n_samples = 400, n_features = 4,\n",
    "    centers=4, cluster_std = 2, random_state=100, return_centers=True)\n",
    "# centers # this \n"
   ]
  },
  {
   "cell_type": "markdown",
   "metadata": {},
   "source": [
    "As we can see above, each array represents one of our blobs and each column represents a feature and its center"
   ]
  },
  {
   "cell_type": "code",
   "execution_count": 80,
   "metadata": {},
   "outputs": [
    {
     "data": {
      "text/html": [
       "<div>\n",
       "<style scoped>\n",
       "    .dataframe tbody tr th:only-of-type {\n",
       "        vertical-align: middle;\n",
       "    }\n",
       "\n",
       "    .dataframe tbody tr th {\n",
       "        vertical-align: top;\n",
       "    }\n",
       "\n",
       "    .dataframe thead th {\n",
       "        text-align: right;\n",
       "    }\n",
       "</style>\n",
       "<table border=\"1\" class=\"dataframe\">\n",
       "  <thead>\n",
       "    <tr style=\"text-align: right;\">\n",
       "      <th></th>\n",
       "      <th>0</th>\n",
       "      <th>1</th>\n",
       "      <th>2</th>\n",
       "      <th>3</th>\n",
       "    </tr>\n",
       "  </thead>\n",
       "  <tbody>\n",
       "    <tr>\n",
       "      <th>count</th>\n",
       "      <td>400.000000</td>\n",
       "      <td>400.000000</td>\n",
       "      <td>400.000000</td>\n",
       "      <td>400.000000</td>\n",
       "    </tr>\n",
       "    <tr>\n",
       "      <th>mean</th>\n",
       "      <td>-5.491490</td>\n",
       "      <td>-4.626276</td>\n",
       "      <td>1.047229</td>\n",
       "      <td>4.276850</td>\n",
       "    </tr>\n",
       "    <tr>\n",
       "      <th>std</th>\n",
       "      <td>4.468370</td>\n",
       "      <td>4.385843</td>\n",
       "      <td>5.406260</td>\n",
       "      <td>6.363439</td>\n",
       "    </tr>\n",
       "    <tr>\n",
       "      <th>min</th>\n",
       "      <td>-15.690104</td>\n",
       "      <td>-12.740153</td>\n",
       "      <td>-11.243356</td>\n",
       "      <td>-10.873853</td>\n",
       "    </tr>\n",
       "    <tr>\n",
       "      <th>25%</th>\n",
       "      <td>-8.611915</td>\n",
       "      <td>-8.043727</td>\n",
       "      <td>-3.653796</td>\n",
       "      <td>-0.133928</td>\n",
       "    </tr>\n",
       "    <tr>\n",
       "      <th>50%</th>\n",
       "      <td>-6.449392</td>\n",
       "      <td>-5.563121</td>\n",
       "      <td>1.389475</td>\n",
       "      <td>6.456682</td>\n",
       "    </tr>\n",
       "    <tr>\n",
       "      <th>75%</th>\n",
       "      <td>-2.158955</td>\n",
       "      <td>-1.412487</td>\n",
       "      <td>5.794436</td>\n",
       "      <td>8.754644</td>\n",
       "    </tr>\n",
       "    <tr>\n",
       "      <th>max</th>\n",
       "      <td>7.214880</td>\n",
       "      <td>7.273370</td>\n",
       "      <td>12.403710</td>\n",
       "      <td>15.967442</td>\n",
       "    </tr>\n",
       "  </tbody>\n",
       "</table>\n",
       "</div>"
      ],
      "text/plain": [
       "                0           1           2           3\n",
       "count  400.000000  400.000000  400.000000  400.000000\n",
       "mean    -5.491490   -4.626276    1.047229    4.276850\n",
       "std      4.468370    4.385843    5.406260    6.363439\n",
       "min    -15.690104  -12.740153  -11.243356  -10.873853\n",
       "25%     -8.611915   -8.043727   -3.653796   -0.133928\n",
       "50%     -6.449392   -5.563121    1.389475    6.456682\n",
       "75%     -2.158955   -1.412487    5.794436    8.754644\n",
       "max      7.214880    7.273370   12.403710   15.967442"
      ]
     },
     "execution_count": 80,
     "metadata": {},
     "output_type": "execute_result"
    }
   ],
   "source": [
    "\n",
    "DF = pd.DataFrame.from_records(X)\n",
    "DF.describe() \n"
   ]
  },
  {
   "cell_type": "markdown",
   "metadata": {},
   "source": [
    "From the description above, we can get a general understanding for the entire dataset. It will be more useful to get the data report while separating per each cluster/blob. "
   ]
  },
  {
   "cell_type": "code",
   "execution_count": 81,
   "metadata": {},
   "outputs": [
    {
     "data": {
      "text/html": [
       "<div>\n",
       "<style scoped>\n",
       "    .dataframe tbody tr th:only-of-type {\n",
       "        vertical-align: middle;\n",
       "    }\n",
       "\n",
       "    .dataframe tbody tr th {\n",
       "        vertical-align: top;\n",
       "    }\n",
       "\n",
       "    .dataframe thead th {\n",
       "        text-align: right;\n",
       "    }\n",
       "</style>\n",
       "<table border=\"1\" class=\"dataframe\">\n",
       "  <thead>\n",
       "    <tr style=\"text-align: right;\">\n",
       "      <th></th>\n",
       "      <th>0</th>\n",
       "      <th>1</th>\n",
       "      <th>2</th>\n",
       "      <th>3</th>\n",
       "    </tr>\n",
       "  </thead>\n",
       "  <tbody>\n",
       "    <tr>\n",
       "      <th>count</th>\n",
       "      <td>100.000000</td>\n",
       "      <td>100.000000</td>\n",
       "      <td>100.000000</td>\n",
       "      <td>100.000000</td>\n",
       "    </tr>\n",
       "    <tr>\n",
       "      <th>mean</th>\n",
       "      <td>-5.322886</td>\n",
       "      <td>-4.756153</td>\n",
       "      <td>1.776085</td>\n",
       "      <td>4.468637</td>\n",
       "    </tr>\n",
       "    <tr>\n",
       "      <th>std</th>\n",
       "      <td>4.591520</td>\n",
       "      <td>4.460561</td>\n",
       "      <td>4.896483</td>\n",
       "      <td>5.846670</td>\n",
       "    </tr>\n",
       "    <tr>\n",
       "      <th>min</th>\n",
       "      <td>-12.694688</td>\n",
       "      <td>-12.227846</td>\n",
       "      <td>-11.243356</td>\n",
       "      <td>-8.553390</td>\n",
       "    </tr>\n",
       "    <tr>\n",
       "      <th>25%</th>\n",
       "      <td>-9.203363</td>\n",
       "      <td>-7.943706</td>\n",
       "      <td>-2.233884</td>\n",
       "      <td>3.461484</td>\n",
       "    </tr>\n",
       "    <tr>\n",
       "      <th>50%</th>\n",
       "      <td>-6.366952</td>\n",
       "      <td>-5.462108</td>\n",
       "      <td>1.957509</td>\n",
       "      <td>6.180567</td>\n",
       "    </tr>\n",
       "    <tr>\n",
       "      <th>75%</th>\n",
       "      <td>-1.828789</td>\n",
       "      <td>-2.768855</td>\n",
       "      <td>6.173293</td>\n",
       "      <td>8.329729</td>\n",
       "    </tr>\n",
       "    <tr>\n",
       "      <th>max</th>\n",
       "      <td>7.214880</td>\n",
       "      <td>5.601424</td>\n",
       "      <td>11.707685</td>\n",
       "      <td>13.825977</td>\n",
       "    </tr>\n",
       "  </tbody>\n",
       "</table>\n",
       "</div>"
      ],
      "text/plain": [
       "                0           1           2           3\n",
       "count  100.000000  100.000000  100.000000  100.000000\n",
       "mean    -5.322886   -4.756153    1.776085    4.468637\n",
       "std      4.591520    4.460561    4.896483    5.846670\n",
       "min    -12.694688  -12.227846  -11.243356   -8.553390\n",
       "25%     -9.203363   -7.943706   -2.233884    3.461484\n",
       "50%     -6.366952   -5.462108    1.957509    6.180567\n",
       "75%     -1.828789   -2.768855    6.173293    8.329729\n",
       "max      7.214880    5.601424   11.707685   13.825977"
      ]
     },
     "execution_count": 81,
     "metadata": {},
     "output_type": "execute_result"
    }
   ],
   "source": [
    "# Class 1 [0,100]\n",
    "DF[0:100].describe() "
   ]
  },
  {
   "cell_type": "code",
   "execution_count": 82,
   "metadata": {},
   "outputs": [
    {
     "data": {
      "text/html": [
       "<div>\n",
       "<style scoped>\n",
       "    .dataframe tbody tr th:only-of-type {\n",
       "        vertical-align: middle;\n",
       "    }\n",
       "\n",
       "    .dataframe tbody tr th {\n",
       "        vertical-align: top;\n",
       "    }\n",
       "\n",
       "    .dataframe thead th {\n",
       "        text-align: right;\n",
       "    }\n",
       "</style>\n",
       "<table border=\"1\" class=\"dataframe\">\n",
       "  <thead>\n",
       "    <tr style=\"text-align: right;\">\n",
       "      <th></th>\n",
       "      <th>0</th>\n",
       "      <th>1</th>\n",
       "      <th>2</th>\n",
       "      <th>3</th>\n",
       "    </tr>\n",
       "  </thead>\n",
       "  <tbody>\n",
       "    <tr>\n",
       "      <th>count</th>\n",
       "      <td>100.000000</td>\n",
       "      <td>100.000000</td>\n",
       "      <td>100.000000</td>\n",
       "      <td>100.000000</td>\n",
       "    </tr>\n",
       "    <tr>\n",
       "      <th>mean</th>\n",
       "      <td>-5.184579</td>\n",
       "      <td>-4.759022</td>\n",
       "      <td>0.262281</td>\n",
       "      <td>4.506711</td>\n",
       "    </tr>\n",
       "    <tr>\n",
       "      <th>std</th>\n",
       "      <td>4.354314</td>\n",
       "      <td>4.322579</td>\n",
       "      <td>5.730522</td>\n",
       "      <td>6.522006</td>\n",
       "    </tr>\n",
       "    <tr>\n",
       "      <th>min</th>\n",
       "      <td>-15.655561</td>\n",
       "      <td>-11.737159</td>\n",
       "      <td>-10.844611</td>\n",
       "      <td>-10.288463</td>\n",
       "    </tr>\n",
       "    <tr>\n",
       "      <th>25%</th>\n",
       "      <td>-7.880050</td>\n",
       "      <td>-8.338802</td>\n",
       "      <td>-4.741193</td>\n",
       "      <td>2.365212</td>\n",
       "    </tr>\n",
       "    <tr>\n",
       "      <th>50%</th>\n",
       "      <td>-5.984302</td>\n",
       "      <td>-5.601267</td>\n",
       "      <td>-0.652467</td>\n",
       "      <td>7.027476</td>\n",
       "    </tr>\n",
       "    <tr>\n",
       "      <th>75%</th>\n",
       "      <td>-3.128195</td>\n",
       "      <td>-2.334520</td>\n",
       "      <td>5.048677</td>\n",
       "      <td>8.924774</td>\n",
       "    </tr>\n",
       "    <tr>\n",
       "      <th>max</th>\n",
       "      <td>6.310766</td>\n",
       "      <td>7.273370</td>\n",
       "      <td>11.826155</td>\n",
       "      <td>15.967442</td>\n",
       "    </tr>\n",
       "  </tbody>\n",
       "</table>\n",
       "</div>"
      ],
      "text/plain": [
       "                0           1           2           3\n",
       "count  100.000000  100.000000  100.000000  100.000000\n",
       "mean    -5.184579   -4.759022    0.262281    4.506711\n",
       "std      4.354314    4.322579    5.730522    6.522006\n",
       "min    -15.655561  -11.737159  -10.844611  -10.288463\n",
       "25%     -7.880050   -8.338802   -4.741193    2.365212\n",
       "50%     -5.984302   -5.601267   -0.652467    7.027476\n",
       "75%     -3.128195   -2.334520    5.048677    8.924774\n",
       "max      6.310766    7.273370   11.826155   15.967442"
      ]
     },
     "execution_count": 82,
     "metadata": {},
     "output_type": "execute_result"
    }
   ],
   "source": [
    "# Class 2 [100,200]\n",
    "DF[100:200].describe() "
   ]
  },
  {
   "cell_type": "code",
   "execution_count": 83,
   "metadata": {},
   "outputs": [
    {
     "data": {
      "text/html": [
       "<div>\n",
       "<style scoped>\n",
       "    .dataframe tbody tr th:only-of-type {\n",
       "        vertical-align: middle;\n",
       "    }\n",
       "\n",
       "    .dataframe tbody tr th {\n",
       "        vertical-align: top;\n",
       "    }\n",
       "\n",
       "    .dataframe thead th {\n",
       "        text-align: right;\n",
       "    }\n",
       "</style>\n",
       "<table border=\"1\" class=\"dataframe\">\n",
       "  <thead>\n",
       "    <tr style=\"text-align: right;\">\n",
       "      <th></th>\n",
       "      <th>0</th>\n",
       "      <th>1</th>\n",
       "      <th>2</th>\n",
       "      <th>3</th>\n",
       "    </tr>\n",
       "  </thead>\n",
       "  <tbody>\n",
       "    <tr>\n",
       "      <th>count</th>\n",
       "      <td>100.000000</td>\n",
       "      <td>100.000000</td>\n",
       "      <td>100.000000</td>\n",
       "      <td>100.000000</td>\n",
       "    </tr>\n",
       "    <tr>\n",
       "      <th>mean</th>\n",
       "      <td>-6.232607</td>\n",
       "      <td>-4.395550</td>\n",
       "      <td>1.474967</td>\n",
       "      <td>4.107688</td>\n",
       "    </tr>\n",
       "    <tr>\n",
       "      <th>std</th>\n",
       "      <td>4.315477</td>\n",
       "      <td>4.574514</td>\n",
       "      <td>5.096143</td>\n",
       "      <td>6.592254</td>\n",
       "    </tr>\n",
       "    <tr>\n",
       "      <th>min</th>\n",
       "      <td>-14.449434</td>\n",
       "      <td>-12.443107</td>\n",
       "      <td>-10.287901</td>\n",
       "      <td>-8.688742</td>\n",
       "    </tr>\n",
       "    <tr>\n",
       "      <th>25%</th>\n",
       "      <td>-9.298119</td>\n",
       "      <td>-7.804656</td>\n",
       "      <td>-2.497092</td>\n",
       "      <td>-2.943040</td>\n",
       "    </tr>\n",
       "    <tr>\n",
       "      <th>50%</th>\n",
       "      <td>-7.661921</td>\n",
       "      <td>-5.613495</td>\n",
       "      <td>1.870769</td>\n",
       "      <td>6.643214</td>\n",
       "    </tr>\n",
       "    <tr>\n",
       "      <th>75%</th>\n",
       "      <td>-4.088967</td>\n",
       "      <td>-0.509850</td>\n",
       "      <td>5.551835</td>\n",
       "      <td>8.820407</td>\n",
       "    </tr>\n",
       "    <tr>\n",
       "      <th>max</th>\n",
       "      <td>3.986729</td>\n",
       "      <td>6.556008</td>\n",
       "      <td>11.131610</td>\n",
       "      <td>13.624034</td>\n",
       "    </tr>\n",
       "  </tbody>\n",
       "</table>\n",
       "</div>"
      ],
      "text/plain": [
       "                0           1           2           3\n",
       "count  100.000000  100.000000  100.000000  100.000000\n",
       "mean    -6.232607   -4.395550    1.474967    4.107688\n",
       "std      4.315477    4.574514    5.096143    6.592254\n",
       "min    -14.449434  -12.443107  -10.287901   -8.688742\n",
       "25%     -9.298119   -7.804656   -2.497092   -2.943040\n",
       "50%     -7.661921   -5.613495    1.870769    6.643214\n",
       "75%     -4.088967   -0.509850    5.551835    8.820407\n",
       "max      3.986729    6.556008   11.131610   13.624034"
      ]
     },
     "execution_count": 83,
     "metadata": {},
     "output_type": "execute_result"
    }
   ],
   "source": [
    "# Class 3 [200,300]\n",
    "DF[200:300].describe() "
   ]
  },
  {
   "cell_type": "code",
   "execution_count": 84,
   "metadata": {},
   "outputs": [
    {
     "data": {
      "text/html": [
       "<div>\n",
       "<style scoped>\n",
       "    .dataframe tbody tr th:only-of-type {\n",
       "        vertical-align: middle;\n",
       "    }\n",
       "\n",
       "    .dataframe tbody tr th {\n",
       "        vertical-align: top;\n",
       "    }\n",
       "\n",
       "    .dataframe thead th {\n",
       "        text-align: right;\n",
       "    }\n",
       "</style>\n",
       "<table border=\"1\" class=\"dataframe\">\n",
       "  <thead>\n",
       "    <tr style=\"text-align: right;\">\n",
       "      <th></th>\n",
       "      <th>0</th>\n",
       "      <th>1</th>\n",
       "      <th>2</th>\n",
       "      <th>3</th>\n",
       "    </tr>\n",
       "  </thead>\n",
       "  <tbody>\n",
       "    <tr>\n",
       "      <th>count</th>\n",
       "      <td>100.000000</td>\n",
       "      <td>100.000000</td>\n",
       "      <td>100.000000</td>\n",
       "      <td>100.000000</td>\n",
       "    </tr>\n",
       "    <tr>\n",
       "      <th>mean</th>\n",
       "      <td>-5.225888</td>\n",
       "      <td>-4.594379</td>\n",
       "      <td>0.675582</td>\n",
       "      <td>4.024364</td>\n",
       "    </tr>\n",
       "    <tr>\n",
       "      <th>std</th>\n",
       "      <td>4.588571</td>\n",
       "      <td>4.234179</td>\n",
       "      <td>5.790325</td>\n",
       "      <td>6.545131</td>\n",
       "    </tr>\n",
       "    <tr>\n",
       "      <th>min</th>\n",
       "      <td>-15.690104</td>\n",
       "      <td>-12.740153</td>\n",
       "      <td>-10.168662</td>\n",
       "      <td>-10.873853</td>\n",
       "    </tr>\n",
       "    <tr>\n",
       "      <th>25%</th>\n",
       "      <td>-8.544990</td>\n",
       "      <td>-7.863865</td>\n",
       "      <td>-4.059328</td>\n",
       "      <td>-2.604749</td>\n",
       "    </tr>\n",
       "    <tr>\n",
       "      <th>50%</th>\n",
       "      <td>-5.922272</td>\n",
       "      <td>-5.334147</td>\n",
       "      <td>0.101706</td>\n",
       "      <td>6.500164</td>\n",
       "    </tr>\n",
       "    <tr>\n",
       "      <th>75%</th>\n",
       "      <td>-1.629995</td>\n",
       "      <td>-1.358350</td>\n",
       "      <td>6.003910</td>\n",
       "      <td>8.793164</td>\n",
       "    </tr>\n",
       "    <tr>\n",
       "      <th>max</th>\n",
       "      <td>4.937314</td>\n",
       "      <td>4.273434</td>\n",
       "      <td>12.403710</td>\n",
       "      <td>13.283567</td>\n",
       "    </tr>\n",
       "  </tbody>\n",
       "</table>\n",
       "</div>"
      ],
      "text/plain": [
       "                0           1           2           3\n",
       "count  100.000000  100.000000  100.000000  100.000000\n",
       "mean    -5.225888   -4.594379    0.675582    4.024364\n",
       "std      4.588571    4.234179    5.790325    6.545131\n",
       "min    -15.690104  -12.740153  -10.168662  -10.873853\n",
       "25%     -8.544990   -7.863865   -4.059328   -2.604749\n",
       "50%     -5.922272   -5.334147    0.101706    6.500164\n",
       "75%     -1.629995   -1.358350    6.003910    8.793164\n",
       "max      4.937314    4.273434   12.403710   13.283567"
      ]
     },
     "execution_count": 84,
     "metadata": {},
     "output_type": "execute_result"
    }
   ],
   "source": [
    "# Class 4 [300,400]\n",
    "DF[300:400].describe() "
   ]
  },
  {
   "cell_type": "markdown",
   "metadata": {},
   "source": [
    "If we look carefully at the means for the descriptions for each blob, we can generally see how our model will make classification decisions as it would be in reduced dimensions. By looking at the means and separations of different features, we would be able to classify via thresholds in a piecewise and systematic fashion. \n",
    "\n",
    "For example, the blobs from [0,100] and [100,200] (lets say class 1 and class 2) share similar features for X1, X2, and X4. However, we can see the mean for class 1 (1.776) is well above 1 and the mean for class 2 (0.2623) is well below 1. In this way, we can distinguish between class 1 and class 2 leveraging our educated assumptions of normality and homoscedasticity. We may not use this particular decision criterion, but the general premise for classification will follow this idea in the LDA process."
   ]
  },
  {
   "cell_type": "markdown",
   "metadata": {},
   "source": [
    "### Fig. A (Scatter Plot before LDA)"
   ]
  },
  {
   "cell_type": "code",
   "execution_count": 85,
   "metadata": {},
   "outputs": [
    {
     "data": {
      "image/png": "[encoded data removed]",
      "text/plain": [
       "<Figure size 640x480 with 1 Axes>"
      ]
     },
     "metadata": {},
     "output_type": "display_data"
    }
   ],
   "source": [
    "plt.scatter(X[:, 0], X[:, 1], marker=\"o\", c=y)\n",
    "plt.title(\"Fig. A - before LDA\")\n",
    "plt.show()\n"
   ]
  },
  {
   "cell_type": "markdown",
   "metadata": {},
   "source": [
    "Though the above graphic does not represent the 4-dimensions that our data is in, it does effectively show that our 4 clusters are centered in their own position and gives us the opportunity to project points into a new 2-dimensional space using knowledge of the within class and between class scatter metrics (matrix) in order to make points of the same class closer together and those of different classes further apart in order to employ our decision-making criterion. It would be impossible to classify the points with high accuracy without performing dimensional reduction techniques of LDA."
   ]
  },
  {
   "cell_type": "markdown",
   "metadata": {},
   "source": [
    "a. [20 pts] Modify the within-class (Sw) and between-class (SB) functions in the lecture\n",
    " note to calculate the scatter matrices."
   ]
  },
  {
   "cell_type": "code",
   "execution_count": 86,
   "metadata": {},
   "outputs": [
    {
     "name": "stdout",
     "output_type": "stream",
     "text": [
      "Class 1: [ 0.82744825 -4.59819208 -1.45809237  6.99189147]\n",
      "Class 2: [-9.87038197 -7.71058888  3.46678297  6.29065458]\n",
      "Class 3: [-7.22645471  1.66250747  7.72800594 -5.9162825 ]\n",
      "Class 4: [-5.69657185 -7.85882945 -5.54778158  9.74113663]\n"
     ]
    },
    {
     "data": {
      "text/plain": [
       "array([-5.49149007, -4.62627573,  1.04722874,  4.27685005])"
      ]
     },
     "execution_count": 86,
     "metadata": {},
     "output_type": "execute_result"
    }
   ],
   "source": [
    "import numpy as np\n",
    "\n",
    "mean_vectors = []\n",
    "for cl in range(0,4):\n",
    "    mean_vectors.append(np.mean(X[y==cl], axis = 0))  # get the maen vectors for each class\n",
    "    Overall_Mean = np.mean(X, axis = 0)  # get the weighted mean...\n",
    "\n",
    "\n",
    "mean_vectors\n",
    "\n",
    "for i, lab in zip(range(0,4), ['Class 1: ', 'Class 2: ', 'Class 3: ', 'Class 4: ']):\n",
    "    print(lab + str(mean_vectors[i]))\n",
    "\n",
    "Overall_Mean"
   ]
  },
  {
   "cell_type": "markdown",
   "metadata": {},
   "source": [
    "Above we calculated the mean vectors for each of the 4 blobs (clusters). We can now find the mean separation vector by adding the mean vectors for each feature."
   ]
  },
  {
   "cell_type": "code",
   "execution_count": 87,
   "metadata": {},
   "outputs": [
    {
     "name": "stdout",
     "output_type": "stream",
     "text": [
      "Mean separation b/w all vectors: [-5.491490070270536, -4.626275734695496, 1.0472287394602937, 4.276850046357971]\n"
     ]
    }
   ],
   "source": [
    "#change mean_sep to \"weighed mean\" calculation when calculating SB.\n",
    "# we dont / cant use mean separation calculations for multiclassification\n",
    "\n",
    "\n",
    "mean_sep = []\n",
    "for i in range(0,4):\n",
    "    mean_sep.append((mean_vectors[0][i]+mean_vectors[1][i]+mean_vectors[2][i]+mean_vectors[3][i])/4)\n",
    "\n",
    "print(\"Mean separation b/w all vectors: \" + str(mean_sep))"
   ]
  },
  {
   "cell_type": "code",
   "execution_count": 88,
   "metadata": {},
   "outputs": [
    {
     "name": "stdout",
     "output_type": "stream",
     "text": [
      "Within-class scatter matrix:\n",
      "[1750.98152406  106.48932315  198.55647822 -169.76805166]\n",
      "[ 106.48932315 1723.81488361   41.4319164   133.18995014]\n",
      "[ 198.55647822   41.4319164  1636.0479396  -122.4631805 ]\n",
      "[-169.76805166  133.18995014 -122.4631805  1638.32393169]\n"
     ]
    }
   ],
   "source": [
    "SW = np.zeros((4,4))\n",
    "for cl, mv in zip(range(0,4),mean_vectors):\n",
    "    class_sc_mat = np.zeros((4,4))\n",
    "    for x_ in X[y==cl]:\n",
    "        x_, mv = x_.reshape(4,1), mv.reshape(4,1) \n",
    "        class_sc_mat += (x_-mv).dot((x_-mv).T) # calculate Sw\n",
    "    SW += class_sc_mat\n",
    "\n",
    "\n",
    "print(\"Within-class scatter matrix:\")\n",
    "for i in range(0, 4):\n",
    "    print(SW[i])"
   ]
  },
  {
   "cell_type": "markdown",
   "metadata": {},
   "source": [
    "Above, we can see that Sw is a symmetric 4x4 matrix."
   ]
  },
  {
   "cell_type": "code",
   "execution_count": 89,
   "metadata": {},
   "outputs": [
    {
     "name": "stdout",
     "output_type": "stream",
     "text": [
      "Between-class scatter matrix:\n",
      "[ 6215.58365775   343.5454076  -3666.43317823  2490.20459148]\n",
      "[  343.5454076   5951.19739909  5579.96630527 -8790.09561851]\n",
      "[ -3666.43317823   5579.96630527  10025.78216681 -10606.46152794]\n",
      "[  2490.20459148  -8790.09561851 -10606.46152794  14518.52376827]\n"
     ]
    }
   ],
   "source": [
    "SB = np.zeros((4,4))\n",
    "for cl, mean_vec in enumerate(mean_vectors):\n",
    "    n = X[y==cl, :].shape[0] #number of columns in blob\n",
    "    mean_vec = mean_vec.reshape(4,1)\n",
    "    overall_mean = Overall_Mean.reshape(4,1)  #overall mean -> weighted mean...\n",
    "    SB += n*(mean_vec-overall_mean).dot((mean_vec - overall_mean).T)  #calculate SB using \n",
    "\n",
    "print(\"Between-class scatter matrix:\")\n",
    "for i in range(0, 4):\n",
    "    print(SB[i])\n"
   ]
  },
  {
   "cell_type": "markdown",
   "metadata": {},
   "source": [
    "We have also identified SB as a symmetric matrix, of very high (maximal) values as expected."
   ]
  },
  {
   "cell_type": "markdown",
   "metadata": {},
   "source": [
    " b. [5 pts] Reduce the dimensions to 2-D by finding the eigenvalues, λ, and their corresponding\n",
    " eigenvectors using SB and Sw matrices found in a). Projectile points and visualize the result."
   ]
  },
  {
   "cell_type": "code",
   "execution_count": 90,
   "metadata": {},
   "outputs": [
    {
     "name": "stdout",
     "output_type": "stream",
     "text": [
      "Eigenvalue: 18.329565866100403\n",
      " Corresponding eigenvector: [-0.31698395  0.41568254  0.50429659 -0.6873239 ]\n",
      "\n",
      "Eigenvalue: 4.015495496672319\n",
      " Corresponding eigenvector: [ 0.80880986  0.42457667 -0.32741828 -0.24157511]\n",
      "\n",
      "Eigenvalue: 0.7489231082280354\n",
      " Corresponding eigenvector: [-0.42438995  0.24315086 -0.78687792 -0.37628973]\n",
      "\n",
      "Eigenvalue: 3.935718606899028e-16\n",
      " Corresponding eigenvector: [-0.2104599   0.77266688  0.11483868  0.5877964 ]\n",
      "\n"
     ]
    }
   ],
   "source": [
    "# find eigenvalues, eigenvectors\n",
    "Sw_inv_SB = np.linalg.inv(SW).dot(SB)\n",
    "eigenvalues, eigenvectors = np.linalg.eig(Sw_inv_SB) \n",
    "eigen_pairs = [(np.abs(eigenvalues[i]),eigenvectors[:,i]) for i in range(len(eigenvalues))]\n",
    "\n",
    "eigen_pairs = sorted(eigen_pairs, key = lambda k: k[0], reverse = True)\n",
    "\n",
    "lambda1 = eigenvalues[0]\n",
    "lambda2 = eigenvalues[1]\n",
    "\n",
    "for i in eigen_pairs:\n",
    "    print(\"Eigenvalue: \" + str(i[0]) +\"\\n\", \"Corresponding eigenvector: \" + str(i[1]) + \"\\n\")\n",
    "\n",
    "\n",
    "# given the eigenvalues, eigenvectors, we need to reduce to 2-dimensions using 2 eigenvectors. \n"
   ]
  },
  {
   "cell_type": "code",
   "execution_count": 91,
   "metadata": {},
   "outputs": [
    {
     "name": "stdout",
     "output_type": "stream",
     "text": [
      "Eigenvalue 1:  79.37%\n",
      "Eigenvalue 2:  17.39%\n",
      "Eigenvalue 3:  3.24%\n",
      "Eigenvalue 4:  0.00%\n"
     ]
    }
   ],
   "source": [
    "eigenvalues_sum = sum(eigenvalues)\n",
    "for i, j in enumerate(eigen_pairs):\n",
    "    print(\"Eigenvalue {0:}: {1: .2%}\".format (i+1, (j[0]/eigenvalues_sum).real))"
   ]
  },
  {
   "cell_type": "markdown",
   "metadata": {},
   "source": [
    "Note that our smallest value in the list of eigenvalues is very very small, and to the order of 10^(-16). We will choose our highest value eigenvalues (18.3296, 4.0155) to reduce the data from 4-dimensions for 2-D visualization, as the highest eigenvalue/vectors can ensure that the points (centers) of our blobs are as seperated as possible."
   ]
  },
  {
   "cell_type": "markdown",
   "metadata": {},
   "source": [
    "We will use the above weight vectors that correspond with our highest eigenvalues, 18.329565866100403, with [-0.31698395, 0.41568254, 0.50429659,-0.6873239], and 4.015495496672319 with [0.80880986, 0.42457667, -0.32741828, -0.24157511]."
   ]
  },
  {
   "cell_type": "code",
   "execution_count": 92,
   "metadata": {},
   "outputs": [
    {
     "data": {
      "text/plain": [
       "array([[-0.31698395,  0.80880986],\n",
       "       [ 0.41568254,  0.42457667],\n",
       "       [ 0.50429659, -0.32741828],\n",
       "       [-0.6873239 , -0.24157511]])"
      ]
     },
     "execution_count": 92,
     "metadata": {},
     "output_type": "execute_result"
    }
   ],
   "source": [
    "# using 2 eigenvalues...?\n",
    "\n",
    "W = np.array([eigenvectors.T[0], eigenvectors.T[1]]) # r = 2, c = 4\n",
    "W = W.T #r = 4, c = 2 \n",
    "W"
   ]
  },
  {
   "cell_type": "markdown",
   "metadata": {},
   "source": [
    "Given these eigenvalues and eigenvectors, we will make a matrix composed of the eigenvector columns found for the highest value eigenvalues. Consequently, the matrix of eigenvectors represents the weights (or correspondance) between features and clusters (class). "
   ]
  },
  {
   "cell_type": "markdown",
   "metadata": {},
   "source": [
    "From this, we want to use the prediction h(x[a,b,c,d]) = 0.01377569a + 0.00480216b -0.0062363c -0.00133567d and project the points onto the new hyperplane in the new space. First however, we will want to turn our results for the weight into a unit vector, for distringuishing classification."
   ]
  },
  {
   "cell_type": "markdown",
   "metadata": {},
   "source": [
    "Now that we have the unit weight vector and the eigenvalues, we can attempt det(Sw_inv*SB - lambda*(I)) = 0."
   ]
  },
  {
   "cell_type": "code",
   "execution_count": 93,
   "metadata": {},
   "outputs": [
    {
     "data": {
      "text/plain": [
       "array([[-14.30819171,  -0.91815934,  -3.655935  ,   3.36104825],\n",
       "       [ -0.12218042, -14.46401752,   3.83840656,  -5.8749812 ],\n",
       "       [ -2.59479287,   3.00875677, -12.35792407,  -6.05080605],\n",
       "       [  1.75265221,  -5.54979381,  -6.71848418,  -9.0941457 ]])"
      ]
     },
     "execution_count": 93,
     "metadata": {},
     "output_type": "execute_result"
    }
   ],
   "source": [
    "mat = Sw_inv_SB-lambda1*np.identity(4)\n",
    "mat\n",
    "# mat.dot(w_hat)"
   ]
  },
  {
   "cell_type": "markdown",
   "metadata": {},
   "source": [
    "Let's make a function for h(x), such that we can make our projections easily computable."
   ]
  },
  {
   "cell_type": "code",
   "execution_count": 94,
   "metadata": {},
   "outputs": [
    {
     "data": {
      "text/html": [
       "<div>\n",
       "<style scoped>\n",
       "    .dataframe tbody tr th:only-of-type {\n",
       "        vertical-align: middle;\n",
       "    }\n",
       "\n",
       "    .dataframe tbody tr th {\n",
       "        vertical-align: top;\n",
       "    }\n",
       "\n",
       "    .dataframe thead th {\n",
       "        text-align: right;\n",
       "    }\n",
       "</style>\n",
       "<table border=\"1\" class=\"dataframe\">\n",
       "  <thead>\n",
       "    <tr style=\"text-align: right;\">\n",
       "      <th></th>\n",
       "      <th>0</th>\n",
       "      <th>1</th>\n",
       "    </tr>\n",
       "  </thead>\n",
       "  <tbody>\n",
       "    <tr>\n",
       "      <th>count</th>\n",
       "      <td>400.000000</td>\n",
       "      <td>400.000000</td>\n",
       "    </tr>\n",
       "    <tr>\n",
       "      <th>mean</th>\n",
       "      <td>-2.593815</td>\n",
       "      <td>-7.781842</td>\n",
       "    </tr>\n",
       "    <tr>\n",
       "      <th>std</th>\n",
       "      <td>8.593798</td>\n",
       "      <td>4.627163</td>\n",
       "    </tr>\n",
       "    <tr>\n",
       "      <th>min</th>\n",
       "      <td>-16.344337</td>\n",
       "      <td>-20.178055</td>\n",
       "    </tr>\n",
       "    <tr>\n",
       "      <th>25%</th>\n",
       "      <td>-9.340007</td>\n",
       "      <td>-11.048736</td>\n",
       "    </tr>\n",
       "    <tr>\n",
       "      <th>50%</th>\n",
       "      <td>-5.143195</td>\n",
       "      <td>-7.125288</td>\n",
       "    </tr>\n",
       "    <tr>\n",
       "      <th>75%</th>\n",
       "      <td>2.693273</td>\n",
       "      <td>-4.273125</td>\n",
       "    </tr>\n",
       "    <tr>\n",
       "      <th>max</th>\n",
       "      <td>16.658127</td>\n",
       "      <td>4.073904</td>\n",
       "    </tr>\n",
       "  </tbody>\n",
       "</table>\n",
       "</div>"
      ],
      "text/plain": [
       "                0           1\n",
       "count  400.000000  400.000000\n",
       "mean    -2.593815   -7.781842\n",
       "std      8.593798    4.627163\n",
       "min    -16.344337  -20.178055\n",
       "25%     -9.340007  -11.048736\n",
       "50%     -5.143195   -7.125288\n",
       "75%      2.693273   -4.273125\n",
       "max     16.658127    4.073904"
      ]
     },
     "execution_count": 94,
     "metadata": {},
     "output_type": "execute_result"
    }
   ],
   "source": [
    "X_p = X.dot(W)\n",
    "X_p\n",
    "\n",
    "DF_p = pd.DataFrame.from_records(X_p)\n",
    "\n",
    "# for i in range(0,400):\n",
    "#     print(X_p[i])\n",
    "\n",
    "DF_p.describe()"
   ]
  },
  {
   "cell_type": "code",
   "execution_count": 95,
   "metadata": {},
   "outputs": [
    {
     "data": {
      "text/html": [
       "<div>\n",
       "<style scoped>\n",
       "    .dataframe tbody tr th:only-of-type {\n",
       "        vertical-align: middle;\n",
       "    }\n",
       "\n",
       "    .dataframe tbody tr th {\n",
       "        vertical-align: top;\n",
       "    }\n",
       "\n",
       "    .dataframe thead th {\n",
       "        text-align: right;\n",
       "    }\n",
       "</style>\n",
       "<table border=\"1\" class=\"dataframe\">\n",
       "  <thead>\n",
       "    <tr style=\"text-align: right;\">\n",
       "      <th></th>\n",
       "      <th>0</th>\n",
       "      <th>1</th>\n",
       "    </tr>\n",
       "  </thead>\n",
       "  <tbody>\n",
       "    <tr>\n",
       "      <th>count</th>\n",
       "      <td>100.000000</td>\n",
       "      <td>100.000000</td>\n",
       "    </tr>\n",
       "    <tr>\n",
       "      <th>mean</th>\n",
       "      <td>-2.465507</td>\n",
       "      <td>-7.985588</td>\n",
       "    </tr>\n",
       "    <tr>\n",
       "      <th>std</th>\n",
       "      <td>7.858245</td>\n",
       "      <td>4.942458</td>\n",
       "    </tr>\n",
       "    <tr>\n",
       "      <th>min</th>\n",
       "      <td>-14.868970</td>\n",
       "      <td>-17.521849</td>\n",
       "    </tr>\n",
       "    <tr>\n",
       "      <th>25%</th>\n",
       "      <td>-8.392350</td>\n",
       "      <td>-12.923130</td>\n",
       "    </tr>\n",
       "    <tr>\n",
       "      <th>50%</th>\n",
       "      <td>-4.175061</td>\n",
       "      <td>-7.358045</td>\n",
       "    </tr>\n",
       "    <tr>\n",
       "      <th>75%</th>\n",
       "      <td>-0.109895</td>\n",
       "      <td>-3.747454</td>\n",
       "    </tr>\n",
       "    <tr>\n",
       "      <th>max</th>\n",
       "      <td>15.109796</td>\n",
       "      <td>4.073904</td>\n",
       "    </tr>\n",
       "  </tbody>\n",
       "</table>\n",
       "</div>"
      ],
      "text/plain": [
       "                0           1\n",
       "count  100.000000  100.000000\n",
       "mean    -2.465507   -7.985588\n",
       "std      7.858245    4.942458\n",
       "min    -14.868970  -17.521849\n",
       "25%     -8.392350  -12.923130\n",
       "50%     -4.175061   -7.358045\n",
       "75%     -0.109895   -3.747454\n",
       "max     15.109796    4.073904"
      ]
     },
     "execution_count": 95,
     "metadata": {},
     "output_type": "execute_result"
    }
   ],
   "source": [
    "# Class 1\n",
    "DF_p[0:100].describe()"
   ]
  },
  {
   "cell_type": "code",
   "execution_count": 96,
   "metadata": {},
   "outputs": [
    {
     "data": {
      "text/html": [
       "<div>\n",
       "<style scoped>\n",
       "    .dataframe tbody tr th:only-of-type {\n",
       "        vertical-align: middle;\n",
       "    }\n",
       "\n",
       "    .dataframe tbody tr th {\n",
       "        vertical-align: top;\n",
       "    }\n",
       "\n",
       "    .dataframe thead th {\n",
       "        text-align: right;\n",
       "    }\n",
       "</style>\n",
       "<table border=\"1\" class=\"dataframe\">\n",
       "  <thead>\n",
       "    <tr style=\"text-align: right;\">\n",
       "      <th></th>\n",
       "      <th>0</th>\n",
       "      <th>1</th>\n",
       "    </tr>\n",
       "  </thead>\n",
       "  <tbody>\n",
       "    <tr>\n",
       "      <th>count</th>\n",
       "      <td>100.000000</td>\n",
       "      <td>100.000000</td>\n",
       "    </tr>\n",
       "    <tr>\n",
       "      <th>mean</th>\n",
       "      <td>-3.300117</td>\n",
       "      <td>-7.388493</td>\n",
       "    </tr>\n",
       "    <tr>\n",
       "      <th>std</th>\n",
       "      <td>8.838298</td>\n",
       "      <td>4.570145</td>\n",
       "    </tr>\n",
       "    <tr>\n",
       "      <th>min</th>\n",
       "      <td>-16.344337</td>\n",
       "      <td>-19.861205</td>\n",
       "    </tr>\n",
       "    <tr>\n",
       "      <th>25%</th>\n",
       "      <td>-10.418562</td>\n",
       "      <td>-10.253720</td>\n",
       "    </tr>\n",
       "    <tr>\n",
       "      <th>50%</th>\n",
       "      <td>-6.428558</td>\n",
       "      <td>-6.553758</td>\n",
       "    </tr>\n",
       "    <tr>\n",
       "      <th>75%</th>\n",
       "      <td>2.806097</td>\n",
       "      <td>-4.448039</td>\n",
       "    </tr>\n",
       "    <tr>\n",
       "      <th>max</th>\n",
       "      <td>13.947862</td>\n",
       "      <td>2.328586</td>\n",
       "    </tr>\n",
       "  </tbody>\n",
       "</table>\n",
       "</div>"
      ],
      "text/plain": [
       "                0           1\n",
       "count  100.000000  100.000000\n",
       "mean    -3.300117   -7.388493\n",
       "std      8.838298    4.570145\n",
       "min    -16.344337  -19.861205\n",
       "25%    -10.418562  -10.253720\n",
       "50%     -6.428558   -6.553758\n",
       "75%      2.806097   -4.448039\n",
       "max     13.947862    2.328586"
      ]
     },
     "execution_count": 96,
     "metadata": {},
     "output_type": "execute_result"
    }
   ],
   "source": [
    "# Class 2\n",
    "DF_p[100:200].describe()"
   ]
  },
  {
   "cell_type": "code",
   "execution_count": 97,
   "metadata": {},
   "outputs": [
    {
     "data": {
      "text/html": [
       "<div>\n",
       "<style scoped>\n",
       "    .dataframe tbody tr th:only-of-type {\n",
       "        vertical-align: middle;\n",
       "    }\n",
       "\n",
       "    .dataframe tbody tr th {\n",
       "        vertical-align: top;\n",
       "    }\n",
       "\n",
       "    .dataframe thead th {\n",
       "        text-align: right;\n",
       "    }\n",
       "</style>\n",
       "<table border=\"1\" class=\"dataframe\">\n",
       "  <thead>\n",
       "    <tr style=\"text-align: right;\">\n",
       "      <th></th>\n",
       "      <th>0</th>\n",
       "      <th>1</th>\n",
       "    </tr>\n",
       "  </thead>\n",
       "  <tbody>\n",
       "    <tr>\n",
       "      <th>count</th>\n",
       "      <td>100.000000</td>\n",
       "      <td>100.000000</td>\n",
       "    </tr>\n",
       "    <tr>\n",
       "      <th>mean</th>\n",
       "      <td>-1.931009</td>\n",
       "      <td>-8.382489</td>\n",
       "    </tr>\n",
       "    <tr>\n",
       "      <th>std</th>\n",
       "      <td>8.655972</td>\n",
       "      <td>4.504169</td>\n",
       "    </tr>\n",
       "    <tr>\n",
       "      <th>min</th>\n",
       "      <td>-13.285465</td>\n",
       "      <td>-18.564914</td>\n",
       "    </tr>\n",
       "    <tr>\n",
       "      <th>25%</th>\n",
       "      <td>-9.093674</td>\n",
       "      <td>-11.991698</td>\n",
       "    </tr>\n",
       "    <tr>\n",
       "      <th>50%</th>\n",
       "      <td>-4.221019</td>\n",
       "      <td>-7.946778</td>\n",
       "    </tr>\n",
       "    <tr>\n",
       "      <th>75%</th>\n",
       "      <td>8.484309</td>\n",
       "      <td>-4.835508</td>\n",
       "    </tr>\n",
       "    <tr>\n",
       "      <th>max</th>\n",
       "      <td>14.683053</td>\n",
       "      <td>1.297753</td>\n",
       "    </tr>\n",
       "  </tbody>\n",
       "</table>\n",
       "</div>"
      ],
      "text/plain": [
       "                0           1\n",
       "count  100.000000  100.000000\n",
       "mean    -1.931009   -8.382489\n",
       "std      8.655972    4.504169\n",
       "min    -13.285465  -18.564914\n",
       "25%     -9.093674  -11.991698\n",
       "50%     -4.221019   -7.946778\n",
       "75%      8.484309   -4.835508\n",
       "max     14.683053    1.297753"
      ]
     },
     "execution_count": 97,
     "metadata": {},
     "output_type": "execute_result"
    }
   ],
   "source": [
    "# Class 3\n",
    "DF_p[200:300].describe()"
   ]
  },
  {
   "cell_type": "code",
   "execution_count": 98,
   "metadata": {},
   "outputs": [
    {
     "data": {
      "text/html": [
       "<div>\n",
       "<style scoped>\n",
       "    .dataframe tbody tr th:only-of-type {\n",
       "        vertical-align: middle;\n",
       "    }\n",
       "\n",
       "    .dataframe tbody tr th {\n",
       "        vertical-align: top;\n",
       "    }\n",
       "\n",
       "    .dataframe thead th {\n",
       "        text-align: right;\n",
       "    }\n",
       "</style>\n",
       "<table border=\"1\" class=\"dataframe\">\n",
       "  <thead>\n",
       "    <tr style=\"text-align: right;\">\n",
       "      <th></th>\n",
       "      <th>0</th>\n",
       "      <th>1</th>\n",
       "    </tr>\n",
       "  </thead>\n",
       "  <tbody>\n",
       "    <tr>\n",
       "      <th>count</th>\n",
       "      <td>100.000000</td>\n",
       "      <td>100.000000</td>\n",
       "    </tr>\n",
       "    <tr>\n",
       "      <th>mean</th>\n",
       "      <td>-2.678628</td>\n",
       "      <td>-7.370800</td>\n",
       "    </tr>\n",
       "    <tr>\n",
       "      <th>std</th>\n",
       "      <td>9.049115</td>\n",
       "      <td>4.467260</td>\n",
       "    </tr>\n",
       "    <tr>\n",
       "      <th>min</th>\n",
       "      <td>-15.489369</td>\n",
       "      <td>-20.178055</td>\n",
       "    </tr>\n",
       "    <tr>\n",
       "      <th>25%</th>\n",
       "      <td>-10.081820</td>\n",
       "      <td>-9.713695</td>\n",
       "    </tr>\n",
       "    <tr>\n",
       "      <th>50%</th>\n",
       "      <td>-5.678089</td>\n",
       "      <td>-7.037830</td>\n",
       "    </tr>\n",
       "    <tr>\n",
       "      <th>75%</th>\n",
       "      <td>7.895753</td>\n",
       "      <td>-4.356021</td>\n",
       "    </tr>\n",
       "    <tr>\n",
       "      <th>max</th>\n",
       "      <td>16.658127</td>\n",
       "      <td>0.662452</td>\n",
       "    </tr>\n",
       "  </tbody>\n",
       "</table>\n",
       "</div>"
      ],
      "text/plain": [
       "                0           1\n",
       "count  100.000000  100.000000\n",
       "mean    -2.678628   -7.370800\n",
       "std      9.049115    4.467260\n",
       "min    -15.489369  -20.178055\n",
       "25%    -10.081820   -9.713695\n",
       "50%     -5.678089   -7.037830\n",
       "75%      7.895753   -4.356021\n",
       "max     16.658127    0.662452"
      ]
     },
     "execution_count": 98,
     "metadata": {},
     "output_type": "execute_result"
    }
   ],
   "source": [
    "# Class 4\n",
    "DF_p[300:400].describe()"
   ]
  },
  {
   "cell_type": "markdown",
   "metadata": {},
   "source": [
    "### Fib. B (Scatter plot after LDA)"
   ]
  },
  {
   "cell_type": "code",
   "execution_count": 99,
   "metadata": {},
   "outputs": [
    {
     "data": {
      "image/png": "[encoded data removed]",
      "text/plain": [
       "<Figure size 640x480 with 1 Axes>"
      ]
     },
     "metadata": {},
     "output_type": "display_data"
    }
   ],
   "source": [
    "plt.scatter(X_p[:, 0], X_p[:, 1], marker=\"o\", c=y)\n",
    "plt.xlabel(\"X_p~ x-direction\")\n",
    "plt.ylabel(\"X_p~ y-direction\")\n",
    "plt.show()"
   ]
  },
  {
   "cell_type": "markdown",
   "metadata": {},
   "source": [
    "The scatter plots of our untouched data in Fig. A has defined classes, but with high variance / overlap and less pronounced (separation beween) centroids, we can't effectively classify. Seeing in Fig. B, we see that the cluster of green points has effectively been projected into its own region of he map, completely distinct from the rest of the clusters. We could effectively classify the points in the green group by as those greater than 5 in the projeced data's X direction.\n",
    "\n",
    "In theory, we could also perform classification criterion on the blue group, whose center is about "
   ]
  }
 ],
 "metadata": {
  "kernelspec": {
   "display_name": "base",
   "language": "python",
   "name": "python3"
  },
  "language_info": {
   "codemirror_mode": {
    "name": "ipython",
    "version": 3
   },
   "file_extension": ".py",
   "mimetype": "text/x-python",
   "name": "python",
   "nbconvert_exporter": "python",
   "pygments_lexer": "ipython3",
   "version": "3.11.5"
  }
 },
 "nbformat": 4,
 "nbformat_minor": 2
}
